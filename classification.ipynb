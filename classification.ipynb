{
 "cells": [
  {
   "cell_type": "code",
   "execution_count": 1,
   "metadata": {},
   "outputs": [],
   "source": [
    "import numpy as np \n",
    "import pandas as pd\n",
    "import matplotlib.pyplot as plt"
   ]
  },
  {
   "cell_type": "code",
   "execution_count": 16,
   "metadata": {},
   "outputs": [],
   "source": [
    "import glob\n",
    "import time \n",
    "from nltk import ngrams\n",
    "from nltk.tokenize import word_tokenize, sent_tokenize\n",
    "import nltk\n",
    "from nltk.corpus import stopwords\n",
    "from nltk.stem import PorterStemmer\n",
    "from nltk.stem import WordNetLemmatizer\n",
    "from sklearn.feature_extraction.text import CountVectorizer\n"
   ]
  },
  {
   "cell_type": "code",
   "execution_count": 59,
   "metadata": {},
   "outputs": [],
   "source": [
    "benign = pd.read_csv('benign.csv', header=0)\n",
    "inline_obf = pd.read_csv('inline_obfuscation.csv', header=0)\n",
    "percent_obf = pd.read_csv('invalid_percent_encoding_obfuscation.csv', header=0)\n",
    "url_obf = pd.read_csv('url_encoding_obfuscation.csv', header=0)\n",
    "nest_obf = pd.read_csv('nested_command_obfuscation.csv', header=0)"
   ]
  },
  {
   "cell_type": "code",
   "execution_count": 60,
   "metadata": {},
   "outputs": [],
   "source": [
    "# create a new df with bengin and an obf togther\n",
    "train_inline = pd.concat([benign, inline_obf], ignore_index=True)\n",
    "train_percent = pd.concat([benign, percent_obf], ignore_index=True)\n",
    "train_url = pd.concat([benign, url_obf], ignore_index=True)\n",
    "train_nest = pd.concat([benign, nest_obf], ignore_index=True)"
   ]
  },
  {
   "cell_type": "code",
   "execution_count": 61,
   "metadata": {},
   "outputs": [],
   "source": [
    "# get rid of NaN entries\n",
    "train_inline = train_inline.dropna()\n",
    "train_percent = train_percent.dropna()\n",
    "train_url = train_url.dropna()\n",
    "train_nest = train_nest.dropna()"
   ]
  },
  {
   "cell_type": "code",
   "execution_count": 85,
   "metadata": {},
   "outputs": [],
   "source": [
    "# vectorize the data\n",
    "vectorizer = CountVectorizer(stop_words='english', vocabulary=None, max_features=29000,)\n",
    "X_inline = vectorizer.fit_transform(train_inline['Query'])\n",
    "X_percent = vectorizer.fit_transform(train_percent['Query'])\n",
    "X_url = vectorizer.fit_transform(train_url['Query'])\n",
    "X_nest = vectorizer.fit_transform(train_nest['Query'])\n"
   ]
  },
  {
   "cell_type": "code",
   "execution_count": 90,
   "metadata": {},
   "outputs": [],
   "source": [
    "# get the labels\n",
    "y_inline = train_inline['Label']\n",
    "y_percent = train_percent['Label']\n",
    "y_url = train_url['Label']\n",
    "y_nest = train_nest['Label']"
   ]
  },
  {
   "cell_type": "code",
   "execution_count": 91,
   "metadata": {},
   "outputs": [],
   "source": [
    "# train test split\n",
    "from sklearn.model_selection import train_test_split\n",
    "X_inline_train, X_inline_test, y_inline_train, y_inline_test = train_test_split(X_inline, y_inline, test_size=0.2, random_state=0)\n",
    "X_percent_train, X_percent_test, y_percent_train, y_percent_test = train_test_split(X_percent, y_percent, test_size=0.2, random_state=0)\n",
    "X_url_train, X_url_test, y_url_train, y_url_test = train_test_split(X_url, y_url, test_size=0.2, random_state=0)\n",
    "X_nest_train, X_nest_test, y_nest_train, y_nest_test = train_test_split(X_nest, y_nest, test_size=0.2, random_state=0)"
   ]
  },
  {
   "cell_type": "code",
   "execution_count": 65,
   "metadata": {},
   "outputs": [],
   "source": [
    "# get classifier and eval metrics\n",
    "from sklearn.naive_bayes import MultinomialNB\n",
    "from sklearn.metrics import confusion_matrix\n",
    "from sklearn.metrics import accuracy_score\n",
    "from sklearn.metrics import classification_report\n"
   ]
  },
  {
   "cell_type": "code",
   "execution_count": 92,
   "metadata": {},
   "outputs": [
    {
     "name": "stdout",
     "output_type": "stream",
     "text": [
      "[[4440   61]\n",
      " [ 128 2393]]\n",
      "0.9730845912845343\n",
      "              precision    recall  f1-score   support\n",
      "\n",
      "           0       0.97      0.99      0.98      4501\n",
      "           1       0.98      0.95      0.96      2521\n",
      "\n",
      "    accuracy                           0.97      7022\n",
      "   macro avg       0.97      0.97      0.97      7022\n",
      "weighted avg       0.97      0.97      0.97      7022\n",
      "\n"
     ]
    }
   ],
   "source": [
    "# inline classifier\n",
    "classifier_inline_obf = MultinomialNB()\n",
    "classifier_inline_obf.fit(X_inline_train, y_inline_train)\n",
    "y_inline_pred = classifier_inline_obf.predict(X_inline_test)\n",
    "print(confusion_matrix(y_inline_test, y_inline_pred))\n",
    "print(accuracy_score(y_inline_test, y_inline_pred))\n",
    "print(classification_report(y_inline_test, y_inline_pred))"
   ]
  },
  {
   "cell_type": "code",
   "execution_count": 93,
   "metadata": {},
   "outputs": [
    {
     "name": "stdout",
     "output_type": "stream",
     "text": [
      "[[4428   73]\n",
      " [ 159 2362]]\n",
      "0.9669609797778411\n",
      "              precision    recall  f1-score   support\n",
      "\n",
      "           0       0.97      0.98      0.97      4501\n",
      "           1       0.97      0.94      0.95      2521\n",
      "\n",
      "    accuracy                           0.97      7022\n",
      "   macro avg       0.97      0.96      0.96      7022\n",
      "weighted avg       0.97      0.97      0.97      7022\n",
      "\n"
     ]
    }
   ],
   "source": [
    "# invalid percent classifier\n",
    "classifier_percent_obf = MultinomialNB()\n",
    "classifier_percent_obf.fit(X_percent_train, y_percent_train)\n",
    "y_percent_pred = classifier_percent_obf.predict(X_percent_test)\n",
    "print(confusion_matrix(y_percent_test, y_percent_pred))\n",
    "print(accuracy_score(y_percent_test, y_percent_pred))\n",
    "print(classification_report(y_percent_test, y_percent_pred))"
   ]
  },
  {
   "cell_type": "code",
   "execution_count": 94,
   "metadata": {},
   "outputs": [
    {
     "name": "stdout",
     "output_type": "stream",
     "text": [
      "[[4508   19]\n",
      " [   8 2487]]\n",
      "0.9961549416120763\n",
      "              precision    recall  f1-score   support\n",
      "\n",
      "           0       1.00      1.00      1.00      4527\n",
      "           1       0.99      1.00      0.99      2495\n",
      "\n",
      "    accuracy                           1.00      7022\n",
      "   macro avg       1.00      1.00      1.00      7022\n",
      "weighted avg       1.00      1.00      1.00      7022\n",
      "\n"
     ]
    }
   ],
   "source": [
    "# nested command classifier\n",
    "classifier_url_obf = MultinomialNB()\n",
    "classifier_url_obf.fit(X_url_train, y_url_train)\n",
    "y_url_pred = classifier_url_obf.predict(X_url_test)\n",
    "print(confusion_matrix(y_url_test, y_url_pred))\n",
    "print(accuracy_score(y_url_test, y_url_pred))\n",
    "print(classification_report(y_url_test, y_url_pred))"
   ]
  },
  {
   "cell_type": "code",
   "execution_count": 95,
   "metadata": {},
   "outputs": [
    {
     "name": "stdout",
     "output_type": "stream",
     "text": [
      "[[4445   56]\n",
      " [  48 2473]]\n",
      "0.9851894047279978\n",
      "              precision    recall  f1-score   support\n",
      "\n",
      "           0       0.99      0.99      0.99      4501\n",
      "           1       0.98      0.98      0.98      2521\n",
      "\n",
      "    accuracy                           0.99      7022\n",
      "   macro avg       0.98      0.98      0.98      7022\n",
      "weighted avg       0.99      0.99      0.99      7022\n",
      "\n"
     ]
    }
   ],
   "source": [
    "# nested command classifier\n",
    "classifier_nest_obf = MultinomialNB()\n",
    "classifier_nest_obf.fit(X_nest_train, y_nest_train)\n",
    "y_nest_pred = classifier_nest_obf.predict(X_nest_test)\n",
    "print(confusion_matrix(y_nest_test, y_nest_pred))\n",
    "print(accuracy_score(y_nest_test, y_nest_pred))\n",
    "print(classification_report(y_nest_test, y_nest_pred))"
   ]
  },
  {
   "cell_type": "code",
   "execution_count": 96,
   "metadata": {},
   "outputs": [],
   "source": [
    "# baseline\n",
    "unobf = pd.read_csv('queries.csv', header=0)\n",
    "unobf = unobf.dropna()\n",
    "X_unobf = vectorizer.fit_transform(unobf['Query'])\n",
    "y_unobf = unobf['Label']\n",
    "X_unobf_train, X_unobf_test, y_unobf_train, y_unobf_test = train_test_split(X_unobf, y_unobf, test_size=0.2, random_state=0)"
   ]
  },
  {
   "cell_type": "code",
   "execution_count": 97,
   "metadata": {},
   "outputs": [
    {
     "name": "stdout",
     "output_type": "stream",
     "text": [
      "[[4478   76]\n",
      " [ 212 2256]]\n",
      "0.9589860438621476\n",
      "              precision    recall  f1-score   support\n",
      "\n",
      "           0       0.95      0.98      0.97      4554\n",
      "           1       0.97      0.91      0.94      2468\n",
      "\n",
      "    accuracy                           0.96      7022\n",
      "   macro avg       0.96      0.95      0.95      7022\n",
      "weighted avg       0.96      0.96      0.96      7022\n",
      "\n"
     ]
    }
   ],
   "source": [
    "# classify plain SQL injections\n",
    "classifier_unobf = MultinomialNB()\n",
    "classifier_unobf.fit(X_unobf_train, y_unobf_train)\n",
    "y_unobf_pred = classifier_unobf.predict(X_unobf_test)\n",
    "print(confusion_matrix(y_unobf_test, y_unobf_pred))\n",
    "print(accuracy_score(y_unobf_test, y_unobf_pred))\n",
    "print(classification_report(y_unobf_test, y_unobf_pred))"
   ]
  },
  {
   "cell_type": "code",
   "execution_count": 98,
   "metadata": {},
   "outputs": [],
   "source": [
    "## OBFUSCATING THE ENTIRE DATASET\n",
    "#\n",
    "all_inline = pd.read_csv('all_inline.csv', header=0)\n",
    "all_percent = pd.read_csv('all_invalid_percent_encoding.csv', header=0)\n",
    "all_url = pd.read_csv('all_url_encoding.csv', header=0)\n",
    "all_nest = pd.read_csv('all_nested_command.csv', header=0)"
   ]
  },
  {
   "cell_type": "code",
   "execution_count": 99,
   "metadata": {},
   "outputs": [],
   "source": [
    "# Dropping NaN values\n",
    "all_inline = all_inline.dropna()\n",
    "all_percent = all_percent.dropna()\n",
    "all_url = all_url.dropna()\n",
    "all_nest = all_nest.dropna()"
   ]
  },
  {
   "cell_type": "code",
   "execution_count": 100,
   "metadata": {},
   "outputs": [],
   "source": [
    "# vectorizing\n",
    "X_all_inline = vectorizer.fit_transform(all_inline['Query'])\n",
    "X_all_percent = vectorizer.fit_transform(all_percent['Query'])\n",
    "X_all_url = vectorizer.fit_transform(all_url['Query'])\n",
    "X_all_nest = vectorizer.fit_transform(all_nest['Query'])"
   ]
  },
  {
   "cell_type": "code",
   "execution_count": 101,
   "metadata": {},
   "outputs": [],
   "source": [
    "# get labels\n",
    "y_all_inline = all_inline['Label']\n",
    "y_all_percent = all_percent['Label']\n",
    "y_all_url = all_url['Label']\n",
    "y_all_nest = all_nest['Label']"
   ]
  },
  {
   "cell_type": "code",
   "execution_count": 102,
   "metadata": {},
   "outputs": [],
   "source": [
    "# train test split\n",
    "X_all_inline_train, X_all_inline_test, y_all_inline_train, y_all_inline_test = train_test_split(X_all_inline, y_all_inline, test_size=0.2, random_state=0)\n",
    "X_all_percent_train, X_all_percent_test, y_all_percent_train, y_all_percent_test = train_test_split(X_all_percent, y_all_percent, test_size=0.2, random_state=0)\n",
    "X_all_url_train, X_all_url_test, y_all_url_train, y_all_url_test = train_test_split(X_all_url, y_all_url, test_size=0.2, random_state=0)\n",
    "X_all_nest_train, X_all_nest_test, y_all_nest_train, y_all_nest_test = train_test_split(X_all_nest, y_all_nest, test_size=0.2, random_state=0)"
   ]
  },
  {
   "cell_type": "code",
   "execution_count": 103,
   "metadata": {},
   "outputs": [
    {
     "name": "stdout",
     "output_type": "stream",
     "text": [
      "[[4474   80]\n",
      " [ 218 2250]]\n",
      "0.9575619481629165\n",
      "              precision    recall  f1-score   support\n",
      "\n",
      "           0       0.95      0.98      0.97      4554\n",
      "           1       0.97      0.91      0.94      2468\n",
      "\n",
      "    accuracy                           0.96      7022\n",
      "   macro avg       0.96      0.95      0.95      7022\n",
      "weighted avg       0.96      0.96      0.96      7022\n",
      "\n"
     ]
    }
   ],
   "source": [
    "# classify inline attacks\n",
    "classifier_inline = MultinomialNB()\n",
    "classifier_inline.fit(X_all_inline_train, y_all_inline_train)\n",
    "y_all_inline_pred = classifier_inline.predict(X_all_inline_test)\n",
    "print(confusion_matrix(y_all_inline_test, y_all_inline_pred))\n",
    "print(accuracy_score(y_all_inline_test, y_all_inline_pred))\n",
    "print(classification_report(y_all_inline_test, y_all_inline_pred))"
   ]
  },
  {
   "cell_type": "code",
   "execution_count": 104,
   "metadata": {},
   "outputs": [
    {
     "name": "stdout",
     "output_type": "stream",
     "text": [
      "[[4471   83]\n",
      " [ 241 2227]]\n",
      "0.953859299344916\n",
      "              precision    recall  f1-score   support\n",
      "\n",
      "           0       0.95      0.98      0.97      4554\n",
      "           1       0.96      0.90      0.93      2468\n",
      "\n",
      "    accuracy                           0.95      7022\n",
      "   macro avg       0.96      0.94      0.95      7022\n",
      "weighted avg       0.95      0.95      0.95      7022\n",
      "\n"
     ]
    }
   ],
   "source": [
    "# classify invalid percent attacks\n",
    "classifier_percent = MultinomialNB()\n",
    "classifier_percent.fit(X_all_percent_train, y_all_percent_train)\n",
    "y_all_percent_pred = classifier_percent.predict(X_all_percent_test)\n",
    "print(confusion_matrix(y_all_percent_test, y_all_percent_pred))\n",
    "print(accuracy_score(y_all_percent_test, y_all_percent_pred))\n",
    "print(classification_report(y_all_percent_test, y_all_percent_pred))"
   ]
  },
  {
   "cell_type": "code",
   "execution_count": 105,
   "metadata": {},
   "outputs": [
    {
     "name": "stdout",
     "output_type": "stream",
     "text": [
      "[[3999  551]\n",
      " [ 134 2340]]\n",
      "0.9024772209567198\n",
      "              precision    recall  f1-score   support\n",
      "\n",
      "           0       0.97      0.88      0.92      4550\n",
      "           1       0.81      0.95      0.87      2474\n",
      "\n",
      "    accuracy                           0.90      7024\n",
      "   macro avg       0.89      0.91      0.90      7024\n",
      "weighted avg       0.91      0.90      0.90      7024\n",
      "\n"
     ]
    }
   ],
   "source": [
    "# classify url encoding attacks\n",
    "classifier_url = MultinomialNB()\n",
    "classifier_url.fit(X_all_url_train, y_all_url_train)\n",
    "y_all_url_pred = classifier_url.predict(X_all_url_test)\n",
    "print(confusion_matrix(y_all_url_test, y_all_url_pred))\n",
    "print(accuracy_score(y_all_url_test, y_all_url_pred))\n",
    "print(classification_report(y_all_url_test, y_all_url_pred))"
   ]
  },
  {
   "cell_type": "code",
   "execution_count": 106,
   "metadata": {},
   "outputs": [
    {
     "name": "stdout",
     "output_type": "stream",
     "text": [
      "[[4480   74]\n",
      " [ 152 2316]]\n",
      "0.9678154371973796\n",
      "              precision    recall  f1-score   support\n",
      "\n",
      "           0       0.97      0.98      0.98      4554\n",
      "           1       0.97      0.94      0.95      2468\n",
      "\n",
      "    accuracy                           0.97      7022\n",
      "   macro avg       0.97      0.96      0.96      7022\n",
      "weighted avg       0.97      0.97      0.97      7022\n",
      "\n"
     ]
    }
   ],
   "source": [
    "# classify nested command attacks\n",
    "classifier_nest = MultinomialNB()\n",
    "classifier_nest.fit(X_all_nest_train, y_all_nest_train)\n",
    "y_all_nest_pred = classifier_nest.predict(X_all_nest_test)\n",
    "print(confusion_matrix(y_all_nest_test, y_all_nest_pred))\n",
    "print(accuracy_score(y_all_nest_test, y_all_nest_pred))\n",
    "print(classification_report(y_all_nest_test, y_all_nest_pred))"
   ]
  },
  {
   "cell_type": "code",
   "execution_count": 111,
   "metadata": {},
   "outputs": [
    {
     "name": "stdout",
     "output_type": "stream",
     "text": [
      "[[4080  421]\n",
      " [1486 1035]]\n",
      "0.7284249501566505\n",
      "              precision    recall  f1-score   support\n",
      "\n",
      "           0       0.73      0.91      0.81      4501\n",
      "           1       0.71      0.41      0.52      2521\n",
      "\n",
      "    accuracy                           0.73      7022\n",
      "   macro avg       0.72      0.66      0.67      7022\n",
      "weighted avg       0.73      0.73      0.71      7022\n",
      "\n"
     ]
    }
   ],
   "source": [
    "## What if we don't train on obfuscated data?\n",
    "# Let's classify the obfuscated data using the model trained on the unobfuscated data\n",
    "#\n",
    "# inline\n",
    "y_inline_pred_on_reg = classifier_unobf.predict(X_inline_test)\n",
    "print(confusion_matrix(y_inline_test, y_inline_pred_on_reg))\n",
    "print(accuracy_score(y_inline_test, y_inline_pred_on_reg))\n",
    "print(classification_report(y_inline_test, y_inline_pred_on_reg))"
   ]
  },
  {
   "cell_type": "code",
   "execution_count": 112,
   "metadata": {},
   "outputs": [
    {
     "name": "stdout",
     "output_type": "stream",
     "text": [
      "[[4119  382]\n",
      " [1402 1119]]\n",
      "0.7459413272571916\n",
      "              precision    recall  f1-score   support\n",
      "\n",
      "           0       0.75      0.92      0.82      4501\n",
      "           1       0.75      0.44      0.56      2521\n",
      "\n",
      "    accuracy                           0.75      7022\n",
      "   macro avg       0.75      0.68      0.69      7022\n",
      "weighted avg       0.75      0.75      0.73      7022\n",
      "\n"
     ]
    }
   ],
   "source": [
    "# invalid percent\n",
    "y_percent_pred_on_reg = classifier_unobf.predict(X_percent_test)\n",
    "print(confusion_matrix(y_percent_test, y_percent_pred_on_reg))\n",
    "print(accuracy_score(y_percent_test, y_percent_pred_on_reg))\n",
    "print(classification_report(y_percent_test, y_percent_pred_on_reg))"
   ]
  },
  {
   "cell_type": "code",
   "execution_count": 114,
   "metadata": {},
   "outputs": [
    {
     "name": "stdout",
     "output_type": "stream",
     "text": [
      "[[4094  433]\n",
      " [ 138 2357]]\n",
      "0.9186841355739106\n",
      "              precision    recall  f1-score   support\n",
      "\n",
      "           0       0.97      0.90      0.93      4527\n",
      "           1       0.84      0.94      0.89      2495\n",
      "\n",
      "    accuracy                           0.92      7022\n",
      "   macro avg       0.91      0.92      0.91      7022\n",
      "weighted avg       0.92      0.92      0.92      7022\n",
      "\n"
     ]
    }
   ],
   "source": [
    "# url encoding\n",
    "y_url_pred_on_reg = classifier_unobf.predict(X_url_test)\n",
    "print(confusion_matrix(y_url_test, y_url_pred_on_reg))\n",
    "print(accuracy_score(y_url_test, y_url_pred_on_reg))\n",
    "print(classification_report(y_url_test, y_url_pred_on_reg))"
   ]
  },
  {
   "cell_type": "code",
   "execution_count": 115,
   "metadata": {},
   "outputs": [
    {
     "name": "stdout",
     "output_type": "stream",
     "text": [
      "[[4121  380]\n",
      " [1458 1063]]\n",
      "0.7382512104813443\n",
      "              precision    recall  f1-score   support\n",
      "\n",
      "           0       0.74      0.92      0.82      4501\n",
      "           1       0.74      0.42      0.54      2521\n",
      "\n",
      "    accuracy                           0.74      7022\n",
      "   macro avg       0.74      0.67      0.68      7022\n",
      "weighted avg       0.74      0.74      0.72      7022\n",
      "\n"
     ]
    }
   ],
   "source": [
    "# nested command\n",
    "y_nest_pred_on_reg = classifier_unobf.predict(X_nest_test)\n",
    "print(confusion_matrix(y_nest_test, y_nest_pred_on_reg))\n",
    "print(accuracy_score(y_nest_test, y_nest_pred_on_reg))\n",
    "print(classification_report(y_nest_test, y_nest_pred_on_reg))"
   ]
  },
  {
   "cell_type": "code",
   "execution_count": 134,
   "metadata": {},
   "outputs": [
    {
     "data": {
      "image/png": "[encoded data removed]",
      "text/plain": [
       "<Figure size 1000x1000 with 4 Axes>"
      ]
     },
     "metadata": {},
     "output_type": "display_data"
    }
   ],
   "source": [
    "import seaborn as sns\n",
    "\n",
    "# plot confusion matrices as a four panel figure for the predictions on classifier_unobf for inline, percent, url, and nested\n",
    "fig, ax = plt.subplots(2, 2, figsize=(10, 10))\n",
    "sns.heatmap(\n",
    "    confusion_matrix(y_inline_test, y_inline_pred_on_reg),\n",
    "    annot=True,\n",
    "    cbar=False,\n",
    "    fmt=\"g\",\n",
    "    ax=ax[0][0],\n",
    "    xticklabels=[],\n",
    "    yticklabels=[],\n",
    ")\n",
    "ax[0][0].set_title(\"Inline Obfuscation\")\n",
    "sns.heatmap(\n",
    "    confusion_matrix(y_percent_test, y_percent_pred_on_reg),\n",
    "    annot=True,\n",
    "    cbar=False,\n",
    "    fmt=\"g\",\n",
    "    ax=ax[0][1],\n",
    "    xticklabels=[],\n",
    "    yticklabels=[],\n",
    ")\n",
    "ax[0][1].set_title(\"Invalid Percent Obfuscation\")\n",
    "sns.heatmap(\n",
    "    confusion_matrix(y_url_test, y_url_pred_on_reg),\n",
    "    annot=True,\n",
    "    cbar=False,\n",
    "    fmt=\"g\",\n",
    "    ax=ax[1][0],\n",
    "    xticklabels=[],\n",
    "    yticklabels=[],\n",
    ")\n",
    "ax[1][0].set_title(\"URL Encoding Obfuscation\")\n",
    "sns.heatmap(\n",
    "    confusion_matrix(y_nest_test, y_nest_pred_on_reg),\n",
    "    annot=True,\n",
    "    cbar=False,\n",
    "    fmt=\"g\",\n",
    "    ax=ax[1][1],\n",
    "    xticklabels=[],\n",
    "    yticklabels=[],\n",
    ")\n",
    "ax[1][1].set_title(\"Nested Command Obfuscation\")\n",
    "plt.show()"
   ]
  },
  {
   "cell_type": "code",
   "execution_count": 135,
   "metadata": {},
   "outputs": [
    {
     "data": {
      "image/png": "[encoded data removed]",
      "text/plain": [
       "<Figure size 1000x1000 with 4 Axes>"
      ]
     },
     "metadata": {},
     "output_type": "display_data"
    }
   ],
   "source": [
    "# plot confusion matrices as a four panel figure for the predictions on fit classifier for inline, percent, url, and nested\n",
    "fig, ax = plt.subplots(2, 2, figsize=(10, 10))\n",
    "sns.heatmap(\n",
    "    confusion_matrix(y_inline_test, y_inline_pred),\n",
    "    annot=True,\n",
    "    cbar=False,\n",
    "    fmt=\"g\",\n",
    "    ax=ax[0][0],\n",
    "    xticklabels=[],\n",
    "    yticklabels=[],\n",
    ")\n",
    "ax[0][0].set_title(\"Inline Obfuscation\")\n",
    "sns.heatmap(\n",
    "    confusion_matrix(y_percent_test, y_percent_pred),\n",
    "    annot=True,\n",
    "    cbar=False,\n",
    "    fmt=\"g\",\n",
    "    ax=ax[0][1],\n",
    "    xticklabels=[],\n",
    "    yticklabels=[],\n",
    ")\n",
    "ax[0][1].set_title(\"Invalid Percent Obfuscation\")\n",
    "sns.heatmap(\n",
    "    confusion_matrix(y_url_test, y_url_pred),\n",
    "    annot=True,\n",
    "    cbar=False,\n",
    "    fmt=\"g\",\n",
    "    ax=ax[1][0],\n",
    "    xticklabels=[],\n",
    "    yticklabels=[],\n",
    ")\n",
    "ax[1][0].set_title(\"URL Encoding Obfuscation\")\n",
    "sns.heatmap(\n",
    "    confusion_matrix(y_nest_test, y_nest_pred),\n",
    "    annot=True,\n",
    "    cbar=False,\n",
    "    fmt=\"g\",\n",
    "    ax=ax[1][1],\n",
    "    xticklabels=[],\n",
    "    yticklabels=[],\n",
    ")\n",
    "ax[1][1].set_title(\"Nested Command Obfuscation\")\n",
    "plt.show()"
   ]
  }
 ],
 "metadata": {
  "kernelspec": {
   "display_name": "Python 3",
   "language": "python",
   "name": "python3"
  },
  "language_info": {
   "codemirror_mode": {
    "name": "ipython",
    "version": 3
   },
   "file_extension": ".py",
   "mimetype": "text/x-python",
   "name": "python",
   "nbconvert_exporter": "python",
   "pygments_lexer": "ipython3",
   "version": "3.10.11"
  }
 },
 "nbformat": 4,
 "nbformat_minor": 2
}
