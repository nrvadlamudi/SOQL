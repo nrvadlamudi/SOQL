{
 "cells": [
  {
   "cell_type": "code",
   "execution_count": 1,
   "metadata": {},
   "outputs": [],
   "source": [
    "import numpy as np \n",
    "import pandas as pd\n",
    "import matplotlib.pyplot as plt"
   ]
  },
  {
   "cell_type": "code",
   "execution_count": 16,
   "metadata": {},
   "outputs": [],
   "source": [
    "import glob\n",
    "import time \n",
    "from nltk import ngrams\n",
    "from nltk.tokenize import word_tokenize, sent_tokenize\n",
    "import nltk\n",
    "from nltk.corpus import stopwords\n",
    "from nltk.stem import PorterStemmer\n",
    "from nltk.stem import WordNetLemmatizer\n",
    "from sklearn.feature_extraction.text import CountVectorizer\n"
   ]
  },
  {
   "cell_type": "code",
   "execution_count": 14,
   "metadata": {},
   "outputs": [],
   "source": [
    "benign = pd.read_csv('benign.csv', header=0)\n",
    "inline_obf = pd.read_csv('inline_obfuscation.csv', header=0)\n",
    "percent_obf = pd.read_csv('invalid_percent_encoding_obfuscation.csv', header=0)\n",
    "url_obf = pd.read_csv('url_encoding_obfuscation.csv', header=0)\n",
    "nest_obf = pd.read_csv('nested_command_obfuscation.csv', header=0)"
   ]
  },
  {
   "cell_type": "code",
   "execution_count": 15,
   "metadata": {},
   "outputs": [],
   "source": [
    "# create a new df with bengin and an obf togther\n",
    "train_inline = pd.concat([benign, inline_obf], ignore_index=True)\n",
    "train_percent = pd.concat([benign, percent_obf], ignore_index=True)\n",
    "train_url = pd.concat([benign, url_obf], ignore_index=True)\n",
    "train_nest = pd.concat([benign, nest_obf], ignore_index=True)"
   ]
  },
  {
   "cell_type": "code",
   "execution_count": 20,
   "metadata": {},
   "outputs": [],
   "source": [
    "# get rid of NaN entries\n",
    "train_inline = train_inline.dropna()\n",
    "train_percent = train_percent.dropna()\n",
    "train_url = train_url.dropna()\n",
    "train_nest = train_nest.dropna()"
   ]
  },
  {
   "cell_type": "code",
   "execution_count": 21,
   "metadata": {},
   "outputs": [
    {
     "name": "stdout",
     "output_type": "stream",
     "text": [
      "0                                  99745017c\n",
      "1                                   ejerci78\n",
      "2                                      47209\n",
      "3        calle valencia de don juan 161, 7?d\n",
      "4                                     b3r3al\n",
      "                        ...                 \n",
      "35113                                    %26\n",
      "35114                                    %21\n",
      "35115                        ' o/**/r '' = '\n",
      "35116                         ' o/**/r 3 = 3\n",
      "35117                        o/**/r 3 = 3 --\n",
      "Name: Query, Length: 35106, dtype: object\n"
     ]
    }
   ],
   "source": [
    "print(train_inline[\"Query\"])"
   ]
  },
  {
   "cell_type": "code",
   "execution_count": 22,
   "metadata": {},
   "outputs": [],
   "source": [
    "# \n",
    "vectorizer = CountVectorizer(stop_words='english')\n",
    "X_inline = vectorizer.fit_transform(train_inline['Query'])\n",
    "X_percent = vectorizer.fit_transform(train_percent['Query'])\n",
    "X_url = vectorizer.fit_transform(train_url['Query'])\n",
    "X_nest = vectorizer.fit_transform(train_nest['Query'])\n"
   ]
  },
  {
   "cell_type": "code",
   "execution_count": 23,
   "metadata": {},
   "outputs": [],
   "source": [
    "#\n",
    "y_inline = train_inline['Label']\n",
    "y_percent = train_percent['Label']\n",
    "y_url = train_url['Label']\n",
    "y_nest = train_nest['Label']"
   ]
  },
  {
   "cell_type": "code",
   "execution_count": 24,
   "metadata": {},
   "outputs": [],
   "source": [
    "# \n",
    "from sklearn.model_selection import train_test_split\n",
    "X_inline_train, X_inline_test, y_inline_train, y_inline_test = train_test_split(X_inline, y_inline, test_size=0.2, random_state=0)\n",
    "X_percent_train, X_percent_test, y_percent_train, y_percent_test = train_test_split(X_percent, y_percent, test_size=0.2, random_state=0)\n",
    "X_url_train, X_url_test, y_url_train, y_url_test = train_test_split(X_url, y_url, test_size=0.2, random_state=0)\n",
    "X_nest_train, X_nest_test, y_nest_train, y_nest_test = train_test_split(X_nest, y_nest, test_size=0.2, random_state=0)"
   ]
  },
  {
   "cell_type": "code",
   "execution_count": 25,
   "metadata": {},
   "outputs": [],
   "source": [
    "# \n",
    "from sklearn.naive_bayes import MultinomialNB\n",
    "from sklearn.metrics import confusion_matrix\n",
    "from sklearn.metrics import accuracy_score\n",
    "from sklearn.metrics import classification_report\n"
   ]
  },
  {
   "cell_type": "code",
   "execution_count": 26,
   "metadata": {},
   "outputs": [
    {
     "name": "stdout",
     "output_type": "stream",
     "text": [
      "[[4439   62]\n",
      " [ 127 2394]]\n",
      "0.9730845912845343\n",
      "              precision    recall  f1-score   support\n",
      "\n",
      "           0       0.97      0.99      0.98      4501\n",
      "           1       0.97      0.95      0.96      2521\n",
      "\n",
      "    accuracy                           0.97      7022\n",
      "   macro avg       0.97      0.97      0.97      7022\n",
      "weighted avg       0.97      0.97      0.97      7022\n",
      "\n"
     ]
    }
   ],
   "source": [
    "# \n",
    "classifier = MultinomialNB()\n",
    "classifier.fit(X_inline_train, y_inline_train)\n",
    "y_inline_pred = classifier.predict(X_inline_test)\n",
    "print(confusion_matrix(y_inline_test, y_inline_pred))\n",
    "print(accuracy_score(y_inline_test, y_inline_pred))\n",
    "print(classification_report(y_inline_test, y_inline_pred))\n"
   ]
  },
  {
   "cell_type": "code",
   "execution_count": 27,
   "metadata": {},
   "outputs": [
    {
     "name": "stdout",
     "output_type": "stream",
     "text": [
      "[[4428   73]\n",
      " [ 158 2363]]\n",
      "0.9671033893477642\n",
      "              precision    recall  f1-score   support\n",
      "\n",
      "           0       0.97      0.98      0.97      4501\n",
      "           1       0.97      0.94      0.95      2521\n",
      "\n",
      "    accuracy                           0.97      7022\n",
      "   macro avg       0.97      0.96      0.96      7022\n",
      "weighted avg       0.97      0.97      0.97      7022\n",
      "\n"
     ]
    }
   ],
   "source": [
    "# \n",
    "classifier = MultinomialNB()\n",
    "classifier.fit(X_percent_train, y_percent_train)\n",
    "y_percent_pred = classifier.predict(X_percent_test)\n",
    "print(confusion_matrix(y_percent_test, y_percent_pred))\n",
    "print(accuracy_score(y_percent_test, y_percent_pred))\n",
    "print(classification_report(y_percent_test, y_percent_pred))"
   ]
  },
  {
   "cell_type": "code",
   "execution_count": 28,
   "metadata": {},
   "outputs": [
    {
     "name": "stdout",
     "output_type": "stream",
     "text": [
      "[[4509   18]\n",
      " [   8 2487]]\n",
      "0.9962973511819995\n",
      "              precision    recall  f1-score   support\n",
      "\n",
      "           0       1.00      1.00      1.00      4527\n",
      "           1       0.99      1.00      0.99      2495\n",
      "\n",
      "    accuracy                           1.00      7022\n",
      "   macro avg       1.00      1.00      1.00      7022\n",
      "weighted avg       1.00      1.00      1.00      7022\n",
      "\n"
     ]
    }
   ],
   "source": [
    "# \n",
    "classifier = MultinomialNB()\n",
    "classifier.fit(X_url_train, y_url_train)\n",
    "y_url_pred = classifier.predict(X_url_test)\n",
    "print(confusion_matrix(y_url_test, y_url_pred))\n",
    "print(accuracy_score(y_url_test, y_url_pred))\n",
    "print(classification_report(y_url_test, y_url_pred))"
   ]
  },
  {
   "cell_type": "code",
   "execution_count": 29,
   "metadata": {},
   "outputs": [
    {
     "name": "stdout",
     "output_type": "stream",
     "text": [
      "[[4445   56]\n",
      " [  47 2474]]\n",
      "0.9853318142979208\n",
      "              precision    recall  f1-score   support\n",
      "\n",
      "           0       0.99      0.99      0.99      4501\n",
      "           1       0.98      0.98      0.98      2521\n",
      "\n",
      "    accuracy                           0.99      7022\n",
      "   macro avg       0.98      0.98      0.98      7022\n",
      "weighted avg       0.99      0.99      0.99      7022\n",
      "\n"
     ]
    }
   ],
   "source": [
    "# \n",
    "classifier = MultinomialNB()\n",
    "classifier.fit(X_nest_train, y_nest_train)\n",
    "y_nest_pred = classifier.predict(X_nest_test)\n",
    "print(confusion_matrix(y_nest_test, y_nest_pred))\n",
    "print(accuracy_score(y_nest_test, y_nest_pred))\n",
    "print(classification_report(y_nest_test, y_nest_pred))"
   ]
  },
  {
   "cell_type": "code",
   "execution_count": 30,
   "metadata": {},
   "outputs": [],
   "source": [
    "# baseline\n",
    "unobf = pd.read_csv('queries.csv', header=0)\n",
    "unobf = unobf.dropna()\n",
    "X_unobf = vectorizer.fit_transform(unobf['Query'])\n",
    "y_unobf = unobf['Label']\n",
    "X_unobf_train, X_unobf_test, y_unobf_train, y_unobf_test = train_test_split(X_unobf, y_unobf, test_size=0.2, random_state=0)"
   ]
  },
  {
   "cell_type": "code",
   "execution_count": 31,
   "metadata": {},
   "outputs": [
    {
     "name": "stdout",
     "output_type": "stream",
     "text": [
      "[[4478   76]\n",
      " [ 209 2259]]\n",
      "0.9594132725719169\n",
      "              precision    recall  f1-score   support\n",
      "\n",
      "           0       0.96      0.98      0.97      4554\n",
      "           1       0.97      0.92      0.94      2468\n",
      "\n",
      "    accuracy                           0.96      7022\n",
      "   macro avg       0.96      0.95      0.95      7022\n",
      "weighted avg       0.96      0.96      0.96      7022\n",
      "\n"
     ]
    }
   ],
   "source": [
    "# \n",
    "classifier = MultinomialNB()\n",
    "classifier.fit(X_unobf_train, y_unobf_train)\n",
    "y_unobf_pred = classifier.predict(X_unobf_test)\n",
    "print(confusion_matrix(y_unobf_test, y_unobf_pred))\n",
    "print(accuracy_score(y_unobf_test, y_unobf_pred))\n",
    "print(classification_report(y_unobf_test, y_unobf_pred))"
   ]
  },
  {
   "cell_type": "code",
   "execution_count": 32,
   "metadata": {},
   "outputs": [],
   "source": [
    "## OBFUSCATING THE ENTIRE DATASET\n",
    "#\n",
    "all_inline = pd.read_csv('all_inline.csv', header=0)\n",
    "all_percent = pd.read_csv('all_invalid_percent_encoding.csv', header=0)\n",
    "all_url = pd.read_csv('all_url_encoding.csv', header=0)\n",
    "all_nest = pd.read_csv('all_nested_command.csv', header=0)"
   ]
  },
  {
   "cell_type": "code",
   "execution_count": 34,
   "metadata": {},
   "outputs": [],
   "source": [
    "# \n",
    "all_inline = all_inline.dropna()\n",
    "all_percent = all_percent.dropna()\n",
    "all_url = all_url.dropna()\n",
    "all_nest = all_nest.dropna()"
   ]
  },
  {
   "cell_type": "code",
   "execution_count": 35,
   "metadata": {},
   "outputs": [],
   "source": [
    "# \n",
    "X_all_inline = vectorizer.fit_transform(all_inline['Query'])\n",
    "X_all_percent = vectorizer.fit_transform(all_percent['Query'])\n",
    "X_all_url = vectorizer.fit_transform(all_url['Query'])\n",
    "X_all_nest = vectorizer.fit_transform(all_nest['Query'])"
   ]
  },
  {
   "cell_type": "code",
   "execution_count": 36,
   "metadata": {},
   "outputs": [],
   "source": [
    "# \n",
    "y_all_inline = all_inline['Label']\n",
    "y_all_percent = all_percent['Label']\n",
    "y_all_url = all_url['Label']\n",
    "y_all_nest = all_nest['Label']"
   ]
  },
  {
   "cell_type": "code",
   "execution_count": 37,
   "metadata": {},
   "outputs": [],
   "source": [
    "# \n",
    "X_all_inline_train, X_all_inline_test, y_all_inline_train, y_all_inline_test = train_test_split(X_all_inline, y_all_inline, test_size=0.2, random_state=0)\n",
    "X_all_percent_train, X_all_percent_test, y_all_percent_train, y_all_percent_test = train_test_split(X_all_percent, y_all_percent, test_size=0.2, random_state=0)\n",
    "X_all_url_train, X_all_url_test, y_all_url_train, y_all_url_test = train_test_split(X_all_url, y_all_url, test_size=0.2, random_state=0)\n",
    "X_all_nest_train, X_all_nest_test, y_all_nest_train, y_all_nest_test = train_test_split(X_all_nest, y_all_nest, test_size=0.2, random_state=0)"
   ]
  },
  {
   "cell_type": "code",
   "execution_count": 38,
   "metadata": {},
   "outputs": [
    {
     "name": "stdout",
     "output_type": "stream",
     "text": [
      "[[4474   80]\n",
      " [ 216 2252]]\n",
      "0.9578467673027627\n",
      "              precision    recall  f1-score   support\n",
      "\n",
      "           0       0.95      0.98      0.97      4554\n",
      "           1       0.97      0.91      0.94      2468\n",
      "\n",
      "    accuracy                           0.96      7022\n",
      "   macro avg       0.96      0.95      0.95      7022\n",
      "weighted avg       0.96      0.96      0.96      7022\n",
      "\n"
     ]
    }
   ],
   "source": [
    "# \n",
    "classifier = MultinomialNB()\n",
    "classifier.fit(X_all_inline_train, y_all_inline_train)\n",
    "y_all_inline_pred = classifier.predict(X_all_inline_test)\n",
    "print(confusion_matrix(y_all_inline_test, y_all_inline_pred))\n",
    "print(accuracy_score(y_all_inline_test, y_all_inline_pred))\n",
    "print(classification_report(y_all_inline_test, y_all_inline_pred))"
   ]
  },
  {
   "cell_type": "code",
   "execution_count": 39,
   "metadata": {},
   "outputs": [
    {
     "name": "stdout",
     "output_type": "stream",
     "text": [
      "[[4471   83]\n",
      " [ 238 2230]]\n",
      "0.9542865280546853\n",
      "              precision    recall  f1-score   support\n",
      "\n",
      "           0       0.95      0.98      0.97      4554\n",
      "           1       0.96      0.90      0.93      2468\n",
      "\n",
      "    accuracy                           0.95      7022\n",
      "   macro avg       0.96      0.94      0.95      7022\n",
      "weighted avg       0.95      0.95      0.95      7022\n",
      "\n"
     ]
    }
   ],
   "source": [
    "#\n",
    "classifier = MultinomialNB()\n",
    "classifier.fit(X_all_percent_train, y_all_percent_train)\n",
    "y_all_percent_pred = classifier.predict(X_all_percent_test)\n",
    "print(confusion_matrix(y_all_percent_test, y_all_percent_pred))\n",
    "print(accuracy_score(y_all_percent_test, y_all_percent_pred))\n",
    "print(classification_report(y_all_percent_test, y_all_percent_pred))"
   ]
  },
  {
   "cell_type": "code",
   "execution_count": 40,
   "metadata": {},
   "outputs": [
    {
     "name": "stdout",
     "output_type": "stream",
     "text": [
      "[[3999  551]\n",
      " [ 134 2340]]\n",
      "0.9024772209567198\n",
      "              precision    recall  f1-score   support\n",
      "\n",
      "           0       0.97      0.88      0.92      4550\n",
      "           1       0.81      0.95      0.87      2474\n",
      "\n",
      "    accuracy                           0.90      7024\n",
      "   macro avg       0.89      0.91      0.90      7024\n",
      "weighted avg       0.91      0.90      0.90      7024\n",
      "\n"
     ]
    }
   ],
   "source": [
    "#\n",
    "classifier = MultinomialNB()\n",
    "classifier.fit(X_all_url_train, y_all_url_train)\n",
    "y_all_url_pred = classifier.predict(X_all_url_test)\n",
    "print(confusion_matrix(y_all_url_test, y_all_url_pred))\n",
    "print(accuracy_score(y_all_url_test, y_all_url_pred))\n",
    "print(classification_report(y_all_url_test, y_all_url_pred))"
   ]
  },
  {
   "cell_type": "code",
   "execution_count": 41,
   "metadata": {},
   "outputs": [
    {
     "name": "stdout",
     "output_type": "stream",
     "text": [
      "[[4480   74]\n",
      " [ 151 2317]]\n",
      "0.9679578467673028\n",
      "              precision    recall  f1-score   support\n",
      "\n",
      "           0       0.97      0.98      0.98      4554\n",
      "           1       0.97      0.94      0.95      2468\n",
      "\n",
      "    accuracy                           0.97      7022\n",
      "   macro avg       0.97      0.96      0.96      7022\n",
      "weighted avg       0.97      0.97      0.97      7022\n",
      "\n"
     ]
    }
   ],
   "source": [
    "# \n",
    "classifier = MultinomialNB()\n",
    "classifier.fit(X_all_nest_train, y_all_nest_train)\n",
    "y_all_nest_pred = classifier.predict(X_all_nest_test)\n",
    "print(confusion_matrix(y_all_nest_test, y_all_nest_pred))\n",
    "print(accuracy_score(y_all_nest_test, y_all_nest_pred))\n",
    "print(classification_report(y_all_nest_test, y_all_nest_pred))"
   ]
  }
 ],
 "metadata": {
  "kernelspec": {
   "display_name": "Python 3",
   "language": "python",
   "name": "python3"
  },
  "language_info": {
   "codemirror_mode": {
    "name": "ipython",
    "version": 3
   },
   "file_extension": ".py",
   "mimetype": "text/x-python",
   "name": "python",
   "nbconvert_exporter": "python",
   "pygments_lexer": "ipython3",
   "version": "3.10.11"
  }
 },
 "nbformat": 4,
 "nbformat_minor": 2
}
