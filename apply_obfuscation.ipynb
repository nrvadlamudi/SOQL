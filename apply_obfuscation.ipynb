# Read in the malicious.csv file
# import obfuscator
# generate obfuscated queries
#

import pandas as pd
import obfuscator
import random
import re
import sys

input_file = "./malicious.csv"
output_file = "./obfuscated.csv"

df = pd.read_csv(input_file, header=0)

# obfuscate malicious queries
for i in range(len(df)):
    query = df.loc[i, "Query"]
    obf_query = obfuscator.ManipulateInput_Inline(query)
    df.loc[i, "Query"] = obf_query

df.to_csv(output_file, index=False)
